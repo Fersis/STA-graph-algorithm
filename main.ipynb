{
 "cells": [
  {
   "cell_type": "code",
   "execution_count": 8,
   "metadata": {},
   "outputs": [],
   "source": [
    "from parse_net import Graph"
   ]
  },
  {
   "cell_type": "code",
   "execution_count": 2,
   "metadata": {},
   "outputs": [],
   "source": [
    "data_path = 'data/grpout_1'\n",
    "data_path2 = 'data/grpout_2'"
   ]
  },
  {
   "cell_type": "code",
   "execution_count": null,
   "metadata": {},
   "outputs": [],
   "source": [
    "graph1 = Graph(data_path=data_path)\n",
    "graph1.draw()"
   ]
  },
  {
   "cell_type": "code",
   "execution_count": 9,
   "metadata": {},
   "outputs": [
    {
     "name": "stdout",
     "output_type": "stream",
     "text": [
      "<re.Match object; span=(0, 3), match='g0 '>\n",
      "<re.Match object; span=(0, 3), match='g1 '>\n",
      "<re.Match object; span=(0, 3), match='g2 '>\n",
      "<re.Match object; span=(0, 10), match='g3 {ff c1}'>\n",
      "<re.Match object; span=(0, 10), match='g4 {ff c1}'>\n",
      "<re.Match object; span=(0, 4), match='gp0 '>\n",
      "<re.Match object; span=(0, 4), match='gp1 '>\n",
      "<re.Match object; span=(0, 4), match='gp2 '>\n"
     ]
    }
   ],
   "source": [
    "graph2 = Graph(data_path=data_path2)\n",
    "# print(graph2.graph.nodes.data())\n",
    "# graph2.draw()"
   ]
  },
  {
   "cell_type": "code",
   "execution_count": null,
   "metadata": {},
   "outputs": [],
   "source": [
    "data_path_test1 = 'data/testdata_1/design.net'\n",
    "graph_test1 = Graph(data_path=data_path_test1)\n",
    "graph_test1.draw()"
   ]
  },
  {
   "cell_type": "code",
   "execution_count": null,
   "metadata": {},
   "outputs": [],
   "source": []
  }
 ],
 "metadata": {
  "interpreter": {
   "hash": "9f0be70fdc03ccbea6bfd3a5d163daab00263a0771f588899d066445af166ca2"
  },
  "kernelspec": {
   "display_name": "Python 3.9.2 64-bit",
   "name": "python3"
  },
  "language_info": {
   "codemirror_mode": {
    "name": "ipython",
    "version": 3
   },
   "file_extension": ".py",
   "mimetype": "text/x-python",
   "name": "python",
   "nbconvert_exporter": "python",
   "pygments_lexer": "ipython3",
   "version": "3.9.2"
  },
  "orig_nbformat": 4
 },
 "nbformat": 4,
 "nbformat_minor": 2
}
